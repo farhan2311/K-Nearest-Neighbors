{
  "nbformat": 4,
  "nbformat_minor": 0,
  "metadata": {
    "colab": {
      "name": "knn.ipynb",
      "provenance": []
    },
    "kernelspec": {
      "name": "python3",
      "display_name": "Python 3"
    },
    "language_info": {
      "name": "python"
    }
  },
  "cells": [
    {
      "cell_type": "code",
      "metadata": {
        "id": "vJkFheI2RIYt"
      },
      "source": [
        "import numpy as np\n",
        "import matplotlib.pyplot as plt\n",
        "import pandas as pd"
      ],
      "execution_count": 1,
      "outputs": []
    },
    {
      "cell_type": "code",
      "metadata": {
        "id": "OTkrVeTMSGY3"
      },
      "source": [
        "dataset = pd.read_csv('Group Kalipuru.csv')"
      ],
      "execution_count": 2,
      "outputs": []
    },
    {
      "cell_type": "code",
      "metadata": {
        "id": "3J_jZj5ATogu"
      },
      "source": [
        "x = dataset.iloc[2:-1, [4,5]].values\n",
        "y = dataset.iloc[2:-1, -1].values"
      ],
      "execution_count": 3,
      "outputs": []
    },
    {
      "cell_type": "code",
      "metadata": {
        "colab": {
          "base_uri": "https://localhost:8080/"
        },
        "id": "i3V0pZ8BVd-G",
        "outputId": "216e3064-5141-4933-ce08-757f18dccfbc"
      },
      "source": [
        "print(x)"
      ],
      "execution_count": 4,
      "outputs": [
        {
          "output_type": "stream",
          "text": [
            "[['410000' '10000']\n",
            " ['960000' '30000']\n",
            " ['1350000' '30000']\n",
            " ['900000' '20000']\n",
            " ['450000' '10000']\n",
            " ['2800000' '70000']\n",
            " ['2800000' '70000']\n",
            " ['6750000' '150000']\n",
            " ['900000' '20000']\n",
            " ['900000' '20000']\n",
            " ['450000' '10000']\n",
            " ['1400000' '40000']\n",
            " ['450000' '10000']\n",
            " ['1350000' '30000']\n",
            " ['450000' '10000']\n",
            " ['850000' '50000']\n",
            " ['510000' '30000']\n",
            " ['1350000' '30000']\n",
            " ['2050000' '50000']\n",
            " ['3800000' '100000']\n",
            " ['2050000' '50000']\n",
            " ['1350000' '50000']\n",
            " ['2250000' '50000']\n",
            " ['450000' '10000']\n",
            " ['160000' '10000']\n",
            " ['1110000' '30000']\n",
            " ['2050000' '50000']\n",
            " ['2000000' '50000']\n",
            " ['2250000' '50000']\n",
            " ['1080000' '30000']\n",
            " ['4500000' '100000']\n",
            " ['450000' '10000']\n",
            " ['720000' '20000']\n",
            " ['1600000' '50000']\n",
            " ['3200000' '100000']\n",
            " ['220000' '10000']\n",
            " ['900000' '20000']\n",
            " ['450000' '10000']\n",
            " ['1600000' '50000']\n",
            " ['1400000' '50000']\n",
            " ['780000' '20000']\n",
            " ['1350000' '30000']\n",
            " ['1350000' '30000']\n",
            " ['1350000' '30000']\n",
            " ['1050000' '30000']\n",
            " ['2250000' '50000']\n",
            " ['1350000' '30000']\n",
            " ['700000' '20000']\n",
            " ['450000' '10000']\n",
            " ['1400000' '50000']\n",
            " ['900000' '20000']\n",
            " ['450000' '10000']\n",
            " ['450000' '10000']\n",
            " ['450000' '10000']\n",
            " ['4500000' '100000']\n",
            " ['6750000' '150000']\n",
            " ['4500000' '100000']\n",
            " ['2050000' '50000']\n",
            " ['900000' '20000']\n",
            " ['900000' '20000']\n",
            " ['900000' '20000']\n",
            " ['2500000' '100000']\n",
            " ['620000' '20000']\n",
            " ['2250000' '50000']\n",
            " ['1300000' '50000']\n",
            " ['1050000' '30000']\n",
            " ['820000' '20000']\n",
            " ['1300000' '50000']\n",
            " ['450000' '10000']\n",
            " ['9900000' '220000']\n",
            " ['450000' '10000']\n",
            " ['2250000' '50000']\n",
            " ['7250000' '250000']\n",
            " ['2250000' '50000']\n",
            " ['1800000' '40000']\n",
            " ['2250000' '50000']\n",
            " ['1900000' '50000']\n",
            " ['4500000' '100000']\n",
            " ['400000' '25000']\n",
            " ['2250000' '50000']\n",
            " ['1350000' '30000']\n",
            " ['450000' '10000']\n",
            " ['450000' '10000']\n",
            " ['450000' '10000']\n",
            " ['100000' '10000']\n",
            " ['4500000' '100000']\n",
            " [nan '30000']\n",
            " [nan '10000']]\n"
          ],
          "name": "stdout"
        }
      ]
    },
    {
      "cell_type": "code",
      "metadata": {
        "colab": {
          "base_uri": "https://localhost:8080/"
        },
        "id": "pTzFGCLBV2p2",
        "outputId": "af7de4ce-4fde-4c10-f837-b83c617c4486"
      },
      "source": [
        "len(x)"
      ],
      "execution_count": 5,
      "outputs": [
        {
          "output_type": "execute_result",
          "data": {
            "text/plain": [
              "88"
            ]
          },
          "metadata": {
            "tags": []
          },
          "execution_count": 5
        }
      ]
    },
    {
      "cell_type": "code",
      "metadata": {
        "colab": {
          "base_uri": "https://localhost:8080/"
        },
        "id": "ylp7B0W2V9TO",
        "outputId": "a98e0127-441d-4f6f-9451-a2a1e1229f0d"
      },
      "source": [
        "print(y)"
      ],
      "execution_count": 6,
      "outputs": [
        {
          "output_type": "stream",
          "text": [
            "['BELUM LUNAS' 'BELUM LUNAS' 'LUNAS' 'LUNAS' 'LUNAS' 'BELUM LUNAS'\n",
            " 'BELUM LUNAS' 'LUNAS' 'LUNAS' 'LUNAS' 'LUNAS' 'BELUM LUNAS' 'LUNAS'\n",
            " 'LUNAS' 'LUNAS' 'BELUM LUNAS' 'BELUM LUNAS' 'LUNAS' 'BELUM LUNAS'\n",
            " 'BELUM LUNAS' 'BELUM LUNAS' 'BELUM LUNAS' 'LUNAS' 'LUNAS' 'BELUM LUNAS'\n",
            " 'BELUM LUNAS' 'BELUM LUNAS' 'BELUM LUNAS' 'LUNAS' 'BELUM LUNAS' 'LUNAS'\n",
            " 'LUNAS' 'BELUM LUNAS' 'BELUM LUNAS' 'BELUM LUNAS' 'BELUM LUNAS' 'LUNAS'\n",
            " 'LUNAS' 'BELUM LUNAS' 'BELUM LUNAS' 'BELUM LUNAS' 'LUNAS' 'LUNAS' 'LUNAS'\n",
            " 'BELUM LUNAS' 'LUNAS' 'LUNAS' 'BELUM LUNAS' 'LUNAS' 'BELUM LUNAS' 'LUNAS'\n",
            " 'LUNAS' 'LUNAS' 'LUNAS' 'LUNAS' 'LUNAS' 'LUNAS' 'BELUM LUNAS' 'LUNAS'\n",
            " 'LUNAS' 'LUNAS' 'BELUM LUNAS' 'BELUM LUNAS' 'BELUM LUNAS' 'BELUM LUNAS'\n",
            " 'BELUM LUNAS' 'BELUM LUNAS' 'BELUM LUNAS' 'LUNAS' 'LUNAS' 'LUNAS' 'LUNAS'\n",
            " 'BELUM LUNAS' 'LUNAS' 'LUNAS' 'LUNAS' 'BELUM LUNAS' 'LUNAS' 'BELUM LUNAS'\n",
            " 'LUNAS' 'BELUM LUNAS' 'BELUM LUNAS' 'BELUM LUNAS' 'BELUM LUNAS'\n",
            " 'BELUM LUNAS' 'BELUM LUNAS' 'BELUM LUNAS' 'BELUM LUNAS']\n"
          ],
          "name": "stdout"
        }
      ]
    },
    {
      "cell_type": "code",
      "metadata": {
        "colab": {
          "base_uri": "https://localhost:8080/"
        },
        "id": "hoLIDvpOWA0q",
        "outputId": "00958990-33b2-4bdf-9a15-6ffc718fe5c4"
      },
      "source": [
        "len(y)"
      ],
      "execution_count": 7,
      "outputs": [
        {
          "output_type": "execute_result",
          "data": {
            "text/plain": [
              "88"
            ]
          },
          "metadata": {
            "tags": []
          },
          "execution_count": 7
        }
      ]
    },
    {
      "cell_type": "code",
      "metadata": {
        "id": "LiaH2diIWS4B"
      },
      "source": [
        "from sklearn.impute import SimpleImputer\n",
        "imputer = SimpleImputer(missing_values=np.nan, strategy='mean')\n",
        "imputer.fit(x[:, :1])\n",
        "x[:, :1] = imputer.transform(x[:, :1])"
      ],
      "execution_count": 8,
      "outputs": []
    },
    {
      "cell_type": "code",
      "metadata": {
        "colab": {
          "base_uri": "https://localhost:8080/"
        },
        "id": "JeTgldTBfcC4",
        "outputId": "58ca2109-cc64-40d9-9fe8-581d2bd48fde"
      },
      "source": [
        "print(x)"
      ],
      "execution_count": 9,
      "outputs": [
        {
          "output_type": "stream",
          "text": [
            "[[410000.0 '10000']\n",
            " [960000.0 '30000']\n",
            " [1350000.0 '30000']\n",
            " [900000.0 '20000']\n",
            " [450000.0 '10000']\n",
            " [2800000.0 '70000']\n",
            " [2800000.0 '70000']\n",
            " [6750000.0 '150000']\n",
            " [900000.0 '20000']\n",
            " [900000.0 '20000']\n",
            " [450000.0 '10000']\n",
            " [1400000.0 '40000']\n",
            " [450000.0 '10000']\n",
            " [1350000.0 '30000']\n",
            " [450000.0 '10000']\n",
            " [850000.0 '50000']\n",
            " [510000.0 '30000']\n",
            " [1350000.0 '30000']\n",
            " [2050000.0 '50000']\n",
            " [3800000.0 '100000']\n",
            " [2050000.0 '50000']\n",
            " [1350000.0 '50000']\n",
            " [2250000.0 '50000']\n",
            " [450000.0 '10000']\n",
            " [160000.0 '10000']\n",
            " [1110000.0 '30000']\n",
            " [2050000.0 '50000']\n",
            " [2000000.0 '50000']\n",
            " [2250000.0 '50000']\n",
            " [1080000.0 '30000']\n",
            " [4500000.0 '100000']\n",
            " [450000.0 '10000']\n",
            " [720000.0 '20000']\n",
            " [1600000.0 '50000']\n",
            " [3200000.0 '100000']\n",
            " [220000.0 '10000']\n",
            " [900000.0 '20000']\n",
            " [450000.0 '10000']\n",
            " [1600000.0 '50000']\n",
            " [1400000.0 '50000']\n",
            " [780000.0 '20000']\n",
            " [1350000.0 '30000']\n",
            " [1350000.0 '30000']\n",
            " [1350000.0 '30000']\n",
            " [1050000.0 '30000']\n",
            " [2250000.0 '50000']\n",
            " [1350000.0 '30000']\n",
            " [700000.0 '20000']\n",
            " [450000.0 '10000']\n",
            " [1400000.0 '50000']\n",
            " [900000.0 '20000']\n",
            " [450000.0 '10000']\n",
            " [450000.0 '10000']\n",
            " [450000.0 '10000']\n",
            " [4500000.0 '100000']\n",
            " [6750000.0 '150000']\n",
            " [4500000.0 '100000']\n",
            " [2050000.0 '50000']\n",
            " [900000.0 '20000']\n",
            " [900000.0 '20000']\n",
            " [900000.0 '20000']\n",
            " [2500000.0 '100000']\n",
            " [620000.0 '20000']\n",
            " [2250000.0 '50000']\n",
            " [1300000.0 '50000']\n",
            " [1050000.0 '30000']\n",
            " [820000.0 '20000']\n",
            " [1300000.0 '50000']\n",
            " [450000.0 '10000']\n",
            " [9900000.0 '220000']\n",
            " [450000.0 '10000']\n",
            " [2250000.0 '50000']\n",
            " [7250000.0 '250000']\n",
            " [2250000.0 '50000']\n",
            " [1800000.0 '40000']\n",
            " [2250000.0 '50000']\n",
            " [1900000.0 '50000']\n",
            " [4500000.0 '100000']\n",
            " [400000.0 '25000']\n",
            " [2250000.0 '50000']\n",
            " [1350000.0 '30000']\n",
            " [450000.0 '10000']\n",
            " [450000.0 '10000']\n",
            " [450000.0 '10000']\n",
            " [100000.0 '10000']\n",
            " [4500000.0 '100000']\n",
            " [1723720.9302325582 '30000']\n",
            " [1723720.9302325582 '10000']]\n"
          ],
          "name": "stdout"
        }
      ]
    },
    {
      "cell_type": "code",
      "metadata": {
        "id": "7moGFLeBg16I"
      },
      "source": [
        "from sklearn.preprocessing import LabelEncoder\n",
        "le = LabelEncoder()\n",
        "y = le.fit_transform(y)"
      ],
      "execution_count": 10,
      "outputs": []
    },
    {
      "cell_type": "code",
      "metadata": {
        "colab": {
          "base_uri": "https://localhost:8080/"
        },
        "id": "J-cQvQAKhFAL",
        "outputId": "8be9ae68-d149-488a-914d-b2a6f4d806c7"
      },
      "source": [
        "print(y)"
      ],
      "execution_count": 11,
      "outputs": [
        {
          "output_type": "stream",
          "text": [
            "[0 0 1 1 1 0 0 1 1 1 1 0 1 1 1 0 0 1 0 0 0 0 1 1 0 0 0 0 1 0 1 1 0 0 0 0 1\n",
            " 1 0 0 0 1 1 1 0 1 1 0 1 0 1 1 1 1 1 1 1 0 1 1 1 0 0 0 0 0 0 0 1 1 1 1 0 1\n",
            " 1 1 0 1 0 1 0 0 0 0 0 0 0 0]\n"
          ],
          "name": "stdout"
        }
      ]
    },
    {
      "cell_type": "code",
      "metadata": {
        "id": "MA63V926hPPn"
      },
      "source": [
        "from sklearn.model_selection import train_test_split\n",
        "x_train, x_test, y_train, y_test = train_test_split(x, y, test_size = 0.25, random_state = 0)"
      ],
      "execution_count": 12,
      "outputs": []
    },
    {
      "cell_type": "code",
      "metadata": {
        "colab": {
          "base_uri": "https://localhost:8080/"
        },
        "id": "EElMdMzwhTTz",
        "outputId": "d40e7a03-d745-45e3-b509-e9115a8431f0"
      },
      "source": [
        "print(x_train)"
      ],
      "execution_count": 13,
      "outputs": [
        {
          "output_type": "stream",
          "text": [
            "[[2500000.0 '100000']\n",
            " [450000.0 '10000']\n",
            " [2250000.0 '50000']\n",
            " [4500000.0 '100000']\n",
            " [7250000.0 '250000']\n",
            " [400000.0 '25000']\n",
            " [450000.0 '10000']\n",
            " [900000.0 '20000']\n",
            " [620000.0 '20000']\n",
            " [1800000.0 '40000']\n",
            " [2000000.0 '50000']\n",
            " [2050000.0 '50000']\n",
            " [900000.0 '20000']\n",
            " [450000.0 '10000']\n",
            " [2250000.0 '50000']\n",
            " [900000.0 '20000']\n",
            " [6750000.0 '150000']\n",
            " [450000.0 '10000']\n",
            " [850000.0 '50000']\n",
            " [1350000.0 '30000']\n",
            " [780000.0 '20000']\n",
            " [1600000.0 '50000']\n",
            " [2800000.0 '70000']\n",
            " [1350000.0 '30000']\n",
            " [450000.0 '10000']\n",
            " [410000.0 '10000']\n",
            " [3200000.0 '100000']\n",
            " [2250000.0 '50000']\n",
            " [1400000.0 '40000']\n",
            " [220000.0 '10000']\n",
            " [450000.0 '10000']\n",
            " [450000.0 '10000']\n",
            " [450000.0 '10000']\n",
            " [450000.0 '10000']\n",
            " [900000.0 '20000']\n",
            " [2050000.0 '50000']\n",
            " [2250000.0 '50000']\n",
            " [960000.0 '30000']\n",
            " [720000.0 '20000']\n",
            " [2250000.0 '50000']\n",
            " [450000.0 '10000']\n",
            " [450000.0 '10000']\n",
            " [3800000.0 '100000']\n",
            " [1080000.0 '30000']\n",
            " [1400000.0 '50000']\n",
            " [4500000.0 '100000']\n",
            " [1723720.9302325582 '30000']\n",
            " [9900000.0 '220000']\n",
            " [2050000.0 '50000']\n",
            " [450000.0 '10000']\n",
            " [1110000.0 '30000']\n",
            " [450000.0 '10000']\n",
            " [1350000.0 '30000']\n",
            " [1400000.0 '50000']\n",
            " [1050000.0 '30000']\n",
            " [900000.0 '20000']\n",
            " [450000.0 '10000']\n",
            " [450000.0 '10000']\n",
            " [900000.0 '20000']\n",
            " [1350000.0 '50000']\n",
            " [900000.0 '20000']\n",
            " [100000.0 '10000']\n",
            " [1300000.0 '50000']\n",
            " [1300000.0 '50000']\n",
            " [700000.0 '20000']\n",
            " [1050000.0 '30000']]\n"
          ],
          "name": "stdout"
        }
      ]
    },
    {
      "cell_type": "code",
      "metadata": {
        "colab": {
          "base_uri": "https://localhost:8080/"
        },
        "id": "MNp5WNadhi36",
        "outputId": "c944896c-2721-4583-91db-ae6212efff36"
      },
      "source": [
        "print(x_test)"
      ],
      "execution_count": 14,
      "outputs": [
        {
          "output_type": "stream",
          "text": [
            "[[1350000.0 '30000']\n",
            " [1350000.0 '30000']\n",
            " [450000.0 '10000']\n",
            " [1350000.0 '30000']\n",
            " [820000.0 '20000']\n",
            " [4500000.0 '100000']\n",
            " [2250000.0 '50000']\n",
            " [1350000.0 '30000']\n",
            " [4500000.0 '100000']\n",
            " [1723720.9302325582 '10000']\n",
            " [6750000.0 '150000']\n",
            " [2050000.0 '50000']\n",
            " [1600000.0 '50000']\n",
            " [2250000.0 '50000']\n",
            " [900000.0 '20000']\n",
            " [510000.0 '30000']\n",
            " [160000.0 '10000']\n",
            " [4500000.0 '100000']\n",
            " [1900000.0 '50000']\n",
            " [1350000.0 '30000']\n",
            " [2250000.0 '50000']\n",
            " [2800000.0 '70000']]\n"
          ],
          "name": "stdout"
        }
      ]
    },
    {
      "cell_type": "code",
      "metadata": {
        "colab": {
          "base_uri": "https://localhost:8080/"
        },
        "id": "h4xef0LNhmJS",
        "outputId": "adf7ae5c-3c22-4f40-b245-3308ec945df3"
      },
      "source": [
        "print(y_train)"
      ],
      "execution_count": 15,
      "outputs": [
        {
          "output_type": "stream",
          "text": [
            "[0 1 1 1 0 0 0 1 0 1 0 0 1 1 1 1 1 1 0 1 0 0 0 0 1 0 0 1 0 0 1 1 1 1 1 0 1\n",
            " 0 0 1 1 0 0 0 0 0 0 1 0 0 0 1 1 0 0 1 1 1 1 0 1 0 0 0 0 0]\n"
          ],
          "name": "stdout"
        }
      ]
    },
    {
      "cell_type": "code",
      "metadata": {
        "colab": {
          "base_uri": "https://localhost:8080/"
        },
        "id": "RisK2J1phpHF",
        "outputId": "52b9934f-150c-49d6-83e9-e6b0990dadbb"
      },
      "source": [
        "print(y_test)"
      ],
      "execution_count": 16,
      "outputs": [
        {
          "output_type": "stream",
          "text": [
            "[1 1 1 1 0 1 1 1 1 0 1 0 0 0 1 0 0 1 0 1 1 0]\n"
          ],
          "name": "stdout"
        }
      ]
    },
    {
      "cell_type": "code",
      "metadata": {
        "id": "N13e-Iruh1Sq"
      },
      "source": [
        "from sklearn.preprocessing import StandardScaler\n",
        "sc = StandardScaler()\n",
        "x_train = sc.fit_transform(x_train)\n",
        "x_test = sc.transform(x_test)"
      ],
      "execution_count": 17,
      "outputs": []
    },
    {
      "cell_type": "code",
      "metadata": {
        "colab": {
          "base_uri": "https://localhost:8080/"
        },
        "id": "jf3g50xjh3c4",
        "outputId": "cd45d570-ef5e-4a0f-8857-7fea347aad6c"
      },
      "source": [
        "print(x_train)"
      ],
      "execution_count": 18,
      "outputs": [
        {
          "output_type": "stream",
          "text": [
            "[[ 0.5315907   1.30629522]\n",
            " [-0.66762044 -0.71701472]\n",
            " [ 0.38534544  0.18223414]\n",
            " [ 1.7015528   1.30629522]\n",
            " [ 3.31025067  4.67847844]\n",
            " [-0.69686949 -0.37979639]\n",
            " [-0.66762044 -0.71701472]\n",
            " [-0.40437897 -0.4922025 ]\n",
            " [-0.56817366 -0.4922025 ]\n",
            " [ 0.12210397 -0.04257807]\n",
            " [ 0.23910018  0.18223414]\n",
            " [ 0.26834923  0.18223414]\n",
            " [-0.40437897 -0.4922025 ]\n",
            " [-0.66762044 -0.71701472]\n",
            " [ 0.38534544  0.18223414]\n",
            " [-0.40437897 -0.4922025 ]\n",
            " [ 3.01776015  2.43035629]\n",
            " [-0.66762044 -0.71701472]\n",
            " [-0.43362802  0.18223414]\n",
            " [-0.1411375  -0.26739029]\n",
            " [-0.4745767  -0.4922025 ]\n",
            " [ 0.00510776  0.18223414]\n",
            " [ 0.70708502  0.63185857]\n",
            " [-0.1411375  -0.26739029]\n",
            " [-0.66762044 -0.71701472]\n",
            " [-0.69101968 -0.71701472]\n",
            " [ 0.94107744  1.30629522]\n",
            " [ 0.38534544  0.18223414]\n",
            " [-0.11188845 -0.04257807]\n",
            " [-0.80216608 -0.71701472]\n",
            " [-0.66762044 -0.71701472]\n",
            " [-0.66762044 -0.71701472]\n",
            " [-0.66762044 -0.71701472]\n",
            " [-0.66762044 -0.71701472]\n",
            " [-0.40437897 -0.4922025 ]\n",
            " [ 0.26834923  0.18223414]\n",
            " [ 0.38534544  0.18223414]\n",
            " [-0.36928011 -0.26739029]\n",
            " [-0.50967556 -0.4922025 ]\n",
            " [ 0.38534544  0.18223414]\n",
            " [-0.66762044 -0.71701472]\n",
            " [-0.66762044 -0.71701472]\n",
            " [ 1.29206606  1.30629522]\n",
            " [-0.29908238 -0.26739029]\n",
            " [-0.11188845  0.18223414]\n",
            " [ 1.7015528   1.30629522]\n",
            " [ 0.07748216 -0.26739029]\n",
            " [ 4.86045044  4.0040418 ]\n",
            " [ 0.26834923  0.18223414]\n",
            " [-0.66762044 -0.71701472]\n",
            " [-0.28153295 -0.26739029]\n",
            " [-0.66762044 -0.71701472]\n",
            " [-0.1411375  -0.26739029]\n",
            " [-0.11188845  0.18223414]\n",
            " [-0.31663181 -0.26739029]\n",
            " [-0.40437897 -0.4922025 ]\n",
            " [-0.66762044 -0.71701472]\n",
            " [-0.66762044 -0.71701472]\n",
            " [-0.40437897 -0.4922025 ]\n",
            " [-0.1411375   0.18223414]\n",
            " [-0.40437897 -0.4922025 ]\n",
            " [-0.87236381 -0.71701472]\n",
            " [-0.17038655  0.18223414]\n",
            " [-0.17038655  0.18223414]\n",
            " [-0.52137518 -0.4922025 ]\n",
            " [-0.31663181 -0.26739029]]\n"
          ],
          "name": "stdout"
        }
      ]
    },
    {
      "cell_type": "code",
      "metadata": {
        "colab": {
          "base_uri": "https://localhost:8080/"
        },
        "id": "7mJq4DWmh6yj",
        "outputId": "de1bbf81-f2d8-490c-86b2-bcf82694f09d"
      },
      "source": [
        "print(x_test)"
      ],
      "execution_count": 19,
      "outputs": [
        {
          "output_type": "stream",
          "text": [
            "[[-0.1411375  -0.26739029]\n",
            " [-0.1411375  -0.26739029]\n",
            " [-0.66762044 -0.71701472]\n",
            " [-0.1411375  -0.26739029]\n",
            " [-0.45117745 -0.4922025 ]\n",
            " [ 1.7015528   1.30629522]\n",
            " [ 0.38534544  0.18223414]\n",
            " [-0.1411375  -0.26739029]\n",
            " [ 1.7015528   1.30629522]\n",
            " [ 0.07748216 -0.71701472]\n",
            " [ 3.01776015  2.43035629]\n",
            " [ 0.26834923  0.18223414]\n",
            " [ 0.00510776  0.18223414]\n",
            " [ 0.38534544  0.18223414]\n",
            " [-0.40437897 -0.4922025 ]\n",
            " [-0.63252158 -0.26739029]\n",
            " [-0.83726494 -0.71701472]\n",
            " [ 1.7015528   1.30629522]\n",
            " [ 0.18060208  0.18223414]\n",
            " [-0.1411375  -0.26739029]\n",
            " [ 0.38534544  0.18223414]\n",
            " [ 0.70708502  0.63185857]]\n"
          ],
          "name": "stdout"
        }
      ]
    },
    {
      "cell_type": "code",
      "metadata": {
        "colab": {
          "base_uri": "https://localhost:8080/"
        },
        "id": "jkLkQlywiC_a",
        "outputId": "863ec9b8-6669-43c4-ff04-103cf413a109"
      },
      "source": [
        "from sklearn.neighbors import KNeighborsClassifier\n",
        "classifier = KNeighborsClassifier(n_neighbors = 5, metric = 'minkowski', p=2)\n",
        "classifier.fit(x_train, y_train)"
      ],
      "execution_count": 20,
      "outputs": [
        {
          "output_type": "execute_result",
          "data": {
            "text/plain": [
              "KNeighborsClassifier(algorithm='auto', leaf_size=30, metric='minkowski',\n",
              "                     metric_params=None, n_jobs=None, n_neighbors=5, p=2,\n",
              "                     weights='uniform')"
            ]
          },
          "metadata": {
            "tags": []
          },
          "execution_count": 20
        }
      ]
    },
    {
      "cell_type": "code",
      "metadata": {
        "id": "FKJm6Ps7iHBl"
      },
      "source": [
        "y_pred = classifier.predict(x_test)"
      ],
      "execution_count": 21,
      "outputs": []
    },
    {
      "cell_type": "code",
      "metadata": {
        "colab": {
          "base_uri": "https://localhost:8080/"
        },
        "id": "4xtlWfJ0iI8F",
        "outputId": "cea6ea88-c5d4-4ce4-8d1b-9d8bc606798d"
      },
      "source": [
        "from sklearn.metrics import confusion_matrix\n",
        "cm = confusion_matrix(y_test, y_pred)\n",
        "print(cm)"
      ],
      "execution_count": 22,
      "outputs": [
        {
          "output_type": "stream",
          "text": [
            "[[5 4]\n",
            " [9 4]]\n"
          ],
          "name": "stdout"
        }
      ]
    },
    {
      "cell_type": "code",
      "metadata": {
        "colab": {
          "base_uri": "https://localhost:8080/",
          "height": 349
        },
        "id": "uUzJ4-c7iNKw",
        "outputId": "d4b67cb7-5778-479b-bbf7-40898bbc6fb9"
      },
      "source": [
        "from matplotlib.colors import ListedColormap\n",
        "x_set, y_set = x_train, y_train\n",
        "X1, X2 = np.meshgrid(np.arange(start = x_set[:, 0].min() - 1, stop = x_set[:, 0].max() + 1, step = 0.01),\n",
        "                     np.arange(start = x_set[:, 1].min() - 1, stop = x_set[:, 1].max() + 1, step = 0.01))\n",
        "plt.contourf(X1, X2, classifier.predict(np.array([X1.ravel(), X2.ravel()]).T).reshape(X1.shape), \n",
        "             alpha = 0.75, cmap = ListedColormap(('red', 'green')))\n",
        "plt.xlim(X1.min(), X1.max())\n",
        "plt.ylim(X2.min(), X2.max())\n",
        "for i, j in enumerate (np.unique(y_set)):\n",
        "  plt.scatter(x_set[y_set == j, 0], x_set[y_set == j, 1],\n",
        "              c = ListedColormap(('red', 'green'))(i), label = j)\n",
        "plt.title('Klasifikasi Data dengan K-NN (Data Training')\n",
        "plt.xlabel('Total')\n",
        "plt.ylabel('Jasa')\n",
        "plt.legend()\n",
        "plt.show()"
      ],
      "execution_count": 23,
      "outputs": [
        {
          "output_type": "stream",
          "text": [
            "*c* argument looks like a single numeric RGB or RGBA sequence, which should be avoided as value-mapping will have precedence in case its length matches with *x* & *y*.  Please use the *color* keyword-argument or provide a 2-D array with a single row if you intend to specify the same RGB or RGBA value for all points.\n",
            "*c* argument looks like a single numeric RGB or RGBA sequence, which should be avoided as value-mapping will have precedence in case its length matches with *x* & *y*.  Please use the *color* keyword-argument or provide a 2-D array with a single row if you intend to specify the same RGB or RGBA value for all points.\n"
          ],
          "name": "stderr"
        },
        {
          "output_type": "display_data",
          "data": {
            "image/png": "[encoded data removed]",
            "text/plain": [
              "<Figure size 432x288 with 1 Axes>"
            ]
          },
          "metadata": {
            "tags": [],
            "needs_background": "light"
          }
        }
      ]
    },
    {
      "cell_type": "code",
      "metadata": {
        "colab": {
          "base_uri": "https://localhost:8080/",
          "height": 349
        },
        "id": "W6NmUG5Fic_z",
        "outputId": "d1b23b78-8521-4b3f-d55a-3c2c9e205573"
      },
      "source": [
        "from matplotlib.colors import ListedColormap\n",
        "x_set, y_set = x_test, y_test\n",
        "X1, X2 = np.meshgrid(np.arange(start = x_set[:, 0].min() - 1, stop = x_set[:, 0].max() + 1, step = 0.01),\n",
        "                     np.arange(start = x_set[:, 1].min() - 1, stop = x_set[:, 1].max() + 1, step = 0.01))\n",
        "plt.contourf(X1, X2, classifier.predict(np.array([X1.ravel(), X2.ravel()]).T).reshape(X1.shape), \n",
        "             alpha = 0.75, cmap = ListedColormap(('red', 'green')))\n",
        "plt.xlim(X1.min(), X1.max())\n",
        "plt.ylim(X2.min(), X2.max())\n",
        "for i, j in enumerate (np.unique(y_set)):\n",
        "  plt.scatter(x_set[y_set == j, 0], x_set[y_set == j, 1],\n",
        "              c = ListedColormap(('red', 'green'))(i), label = j)\n",
        "plt.title('Klasifikasi Data dengan K-NN (Data Test')\n",
        "plt.xlabel('Total')\n",
        "plt.ylabel('Jasa')\n",
        "plt.legend()\n",
        "plt.show()"
      ],
      "execution_count": 24,
      "outputs": [
        {
          "output_type": "stream",
          "text": [
            "*c* argument looks like a single numeric RGB or RGBA sequence, which should be avoided as value-mapping will have precedence in case its length matches with *x* & *y*.  Please use the *color* keyword-argument or provide a 2-D array with a single row if you intend to specify the same RGB or RGBA value for all points.\n",
            "*c* argument looks like a single numeric RGB or RGBA sequence, which should be avoided as value-mapping will have precedence in case its length matches with *x* & *y*.  Please use the *color* keyword-argument or provide a 2-D array with a single row if you intend to specify the same RGB or RGBA value for all points.\n"
          ],
          "name": "stderr"
        },
        {
          "output_type": "display_data",
          "data": {
            "image/png": "[encoded data removed]",
            "text/plain": [
              "<Figure size 432x288 with 1 Axes>"
            ]
          },
          "metadata": {
            "tags": [],
            "needs_background": "light"
          }
        }
      ]
    }
  ]
}